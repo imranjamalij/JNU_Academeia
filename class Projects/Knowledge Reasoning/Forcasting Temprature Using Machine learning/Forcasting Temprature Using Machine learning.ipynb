{
 "cells": [
  {
   "cell_type": "code",
   "execution_count": 42,
   "metadata": {
    "_cell_guid": "b1076dfc-b9ad-4769-8c92-a6c4dae69d19",
    "_uuid": "8f2839f25d086af736a60e9eeb907d3b93b6e0e5"
   },
   "outputs": [],
   "source": [
    "# This Python 3 environment comes with many helpful analytics libraries installed\n",
    "# It is defined by the kaggle/python docker image: https://github.com/kaggle/docker-python\n",
    "# For example, here's several helpful packages to load in \n",
    "\n",
    "import tensorflow as tf\n",
    "\n",
    "import pandas as pd\n",
    "\n",
    "#==============================================================================\n",
    "# NumPy is the fundamental package for scientific  computing with Python\n",
    "#● SciPy (pronounced “Sigh Pie”) is a Python-based ecosystem of open-source software for mathematics,\n",
    "#science, and engineering.\n",
    "\n",
    "\n",
    "#Data Munging or Data Wrangling means taking data\n",
    "#that's stored in one format and changing it into another\n",
    "#format.\n",
    "#==============================================================================\n",
    "import numpy as np\n",
    "\n",
    "import random as rnd\n",
    "\n",
    "# visualization\n",
    "import seaborn as sns\n",
    "#MUatplotlib is a python 2D plotting library which produces publication quality figures in a variety of hardcopy formats\n",
    "#and interactive environments across platforms.\n",
    "import matplotlib.pyplot as plt\n",
    "# machine learning\n",
    "#print(os.listdir(\"../input\")\n",
    "\n",
    "# Any results you write to the current directory are saved as output."
   ]
  },
  {
   "cell_type": "code",
   "execution_count": 43,
   "metadata": {},
   "outputs": [],
   "source": [
    "train_df = pd.read_csv('dataset.csv')\n"
   ]
  },
  {
   "cell_type": "code",
   "execution_count": 3,
   "metadata": {},
   "outputs": [
    {
     "name": "stdout",
     "output_type": "stream",
     "text": [
      "['Date' 'Temperature' 'Humidity' 'Pressure' 'PM10' 'PM2point5']\n"
     ]
    }
   ],
   "source": [
    "\n",
    "print(train_df.columns.values)"
   ]
  },
  {
   "cell_type": "code",
   "execution_count": 4,
   "metadata": {},
   "outputs": [],
   "source": [
    "train_df=train_df.drop(\"Date\", axis=1)"
   ]
  },
  {
   "cell_type": "code",
   "execution_count": 5,
   "metadata": {},
   "outputs": [
    {
     "name": "stdout",
     "output_type": "stream",
     "text": [
      "['Temperature' 'Humidity' 'Pressure' 'PM10' 'PM2point5']\n"
     ]
    }
   ],
   "source": [
    "print(train_df.columns.values)"
   ]
  },
  {
   "cell_type": "code",
   "execution_count": 6,
   "metadata": {},
   "outputs": [
    {
     "data": {
      "text/plain": [
       "(181100, 5)"
      ]
     },
     "execution_count": 6,
     "metadata": {},
     "output_type": "execute_result"
    }
   ],
   "source": [
    "train_df.shape"
   ]
  },
  {
   "cell_type": "code",
   "execution_count": 7,
   "metadata": {},
   "outputs": [
    {
     "data": {
      "text/html": [
       "<div>\n",
       "<style scoped>\n",
       "    .dataframe tbody tr th:only-of-type {\n",
       "        vertical-align: middle;\n",
       "    }\n",
       "\n",
       "    .dataframe tbody tr th {\n",
       "        vertical-align: top;\n",
       "    }\n",
       "\n",
       "    .dataframe thead th {\n",
       "        text-align: right;\n",
       "    }\n",
       "</style>\n",
       "<table border=\"1\" class=\"dataframe\">\n",
       "  <thead>\n",
       "    <tr style=\"text-align: right;\">\n",
       "      <th></th>\n",
       "      <th>Temperature</th>\n",
       "      <th>Humidity</th>\n",
       "      <th>Pressure</th>\n",
       "      <th>PM10</th>\n",
       "      <th>PM2point5</th>\n",
       "    </tr>\n",
       "  </thead>\n",
       "  <tbody>\n",
       "    <tr>\n",
       "      <th>0</th>\n",
       "      <td>79.705149</td>\n",
       "      <td>29.763173</td>\n",
       "      <td>971.557684</td>\n",
       "      <td>0.0</td>\n",
       "      <td>3.8</td>\n",
       "    </tr>\n",
       "    <tr>\n",
       "      <th>1</th>\n",
       "      <td>79.611960</td>\n",
       "      <td>29.644341</td>\n",
       "      <td>971.594328</td>\n",
       "      <td>5.0</td>\n",
       "      <td>3.8</td>\n",
       "    </tr>\n",
       "    <tr>\n",
       "      <th>2</th>\n",
       "      <td>79.602869</td>\n",
       "      <td>29.584354</td>\n",
       "      <td>971.582935</td>\n",
       "      <td>4.6</td>\n",
       "      <td>3.8</td>\n",
       "    </tr>\n",
       "    <tr>\n",
       "      <th>3</th>\n",
       "      <td>79.600596</td>\n",
       "      <td>29.668567</td>\n",
       "      <td>971.561229</td>\n",
       "      <td>5.7</td>\n",
       "      <td>3.8</td>\n",
       "    </tr>\n",
       "    <tr>\n",
       "      <th>4</th>\n",
       "      <td>79.589232</td>\n",
       "      <td>29.668746</td>\n",
       "      <td>971.584034</td>\n",
       "      <td>5.5</td>\n",
       "      <td>3.7</td>\n",
       "    </tr>\n",
       "  </tbody>\n",
       "</table>\n",
       "</div>"
      ],
      "text/plain": [
       "   Temperature   Humidity    Pressure  PM10  PM2point5\n",
       "0    79.705149  29.763173  971.557684   0.0        3.8\n",
       "1    79.611960  29.644341  971.594328   5.0        3.8\n",
       "2    79.602869  29.584354  971.582935   4.6        3.8\n",
       "3    79.600596  29.668567  971.561229   5.7        3.8\n",
       "4    79.589232  29.668746  971.584034   5.5        3.7"
      ]
     },
     "execution_count": 7,
     "metadata": {},
     "output_type": "execute_result"
    }
   ],
   "source": [
    "train_df.head()"
   ]
  },
  {
   "cell_type": "code",
   "execution_count": 8,
   "metadata": {},
   "outputs": [
    {
     "data": {
      "text/html": [
       "<div>\n",
       "<style scoped>\n",
       "    .dataframe tbody tr th:only-of-type {\n",
       "        vertical-align: middle;\n",
       "    }\n",
       "\n",
       "    .dataframe tbody tr th {\n",
       "        vertical-align: top;\n",
       "    }\n",
       "\n",
       "    .dataframe thead th {\n",
       "        text-align: right;\n",
       "    }\n",
       "</style>\n",
       "<table border=\"1\" class=\"dataframe\">\n",
       "  <thead>\n",
       "    <tr style=\"text-align: right;\">\n",
       "      <th></th>\n",
       "      <th>Temperature</th>\n",
       "      <th>Humidity</th>\n",
       "      <th>Pressure</th>\n",
       "      <th>PM10</th>\n",
       "      <th>PM2point5</th>\n",
       "    </tr>\n",
       "  </thead>\n",
       "  <tbody>\n",
       "    <tr>\n",
       "      <th>181095</th>\n",
       "      <td>80.344967</td>\n",
       "      <td>22.759954</td>\n",
       "      <td>974.853771</td>\n",
       "      <td>0.0</td>\n",
       "      <td>0.7</td>\n",
       "    </tr>\n",
       "    <tr>\n",
       "      <th>181096</th>\n",
       "      <td>80.325647</td>\n",
       "      <td>22.953003</td>\n",
       "      <td>974.836615</td>\n",
       "      <td>0.0</td>\n",
       "      <td>0.7</td>\n",
       "    </tr>\n",
       "    <tr>\n",
       "      <th>181097</th>\n",
       "      <td>80.329056</td>\n",
       "      <td>23.199669</td>\n",
       "      <td>974.852971</td>\n",
       "      <td>0.0</td>\n",
       "      <td>0.7</td>\n",
       "    </tr>\n",
       "    <tr>\n",
       "      <th>181098</th>\n",
       "      <td>80.333602</td>\n",
       "      <td>23.350020</td>\n",
       "      <td>974.850408</td>\n",
       "      <td>0.0</td>\n",
       "      <td>0.7</td>\n",
       "    </tr>\n",
       "    <tr>\n",
       "      <th>181099</th>\n",
       "      <td>80.331329</td>\n",
       "      <td>23.434334</td>\n",
       "      <td>974.848224</td>\n",
       "      <td>0.0</td>\n",
       "      <td>0.7</td>\n",
       "    </tr>\n",
       "  </tbody>\n",
       "</table>\n",
       "</div>"
      ],
      "text/plain": [
       "        Temperature   Humidity    Pressure  PM10  PM2point5\n",
       "181095    80.344967  22.759954  974.853771   0.0        0.7\n",
       "181096    80.325647  22.953003  974.836615   0.0        0.7\n",
       "181097    80.329056  23.199669  974.852971   0.0        0.7\n",
       "181098    80.333602  23.350020  974.850408   0.0        0.7\n",
       "181099    80.331329  23.434334  974.848224   0.0        0.7"
      ]
     },
     "execution_count": 8,
     "metadata": {},
     "output_type": "execute_result"
    }
   ],
   "source": [
    "train_df.tail()\n"
   ]
  },
  {
   "cell_type": "code",
   "execution_count": 9,
   "metadata": {},
   "outputs": [
    {
     "data": {
      "image/png": "[encoded data removed]",
      "text/plain": [
       "<Figure size 720x720 with 2 Axes>"
      ]
     },
     "metadata": {},
     "output_type": "display_data"
    }
   ],
   "source": [
    "corr=train_df.corr()[\"Temperature\"]\n",
    "corr[np.argsort(corr, axis=0)[::-1]]\n",
    "\n",
    " \n",
    "\n",
    "\n",
    "#correlation between features\n",
    "#correlation between feature\n",
    "corrMatrix=train_df[[\"Temperature\",\"Humidity\",\"Pressure\",\"PM2point5\",\n",
    "                  \"PM10\"]].corr()\n",
    "\n",
    "sns.set(font_scale=1.10)\n",
    "plt.figure(figsize=(10, 10))\n",
    "\n",
    "sns.heatmap(corrMatrix, vmax=.8, linewidths=0.01,\n",
    "            square=True,annot=True,cmap='viridis',linecolor=\"white\")\n",
    "plt.title('Correlation between features');\n"
   ]
  },
  {
   "cell_type": "code",
   "execution_count": 10,
   "metadata": {},
   "outputs": [
    {
     "data": {
      "text/plain": [
       "0"
      ]
     },
     "execution_count": 10,
     "metadata": {},
     "output_type": "execute_result"
    }
   ],
   "source": [
    "pd.isnull(train_df.Temperature).sum()\n"
   ]
  },
  {
   "cell_type": "code",
   "execution_count": 11,
   "metadata": {},
   "outputs": [
    {
     "data": {
      "text/plain": [
       "0"
      ]
     },
     "execution_count": 11,
     "metadata": {},
     "output_type": "execute_result"
    }
   ],
   "source": [
    "pd.isnull(train_df.Humidity).sum()\n"
   ]
  },
  {
   "cell_type": "code",
   "execution_count": 12,
   "metadata": {},
   "outputs": [
    {
     "data": {
      "text/plain": [
       "0"
      ]
     },
     "execution_count": 12,
     "metadata": {},
     "output_type": "execute_result"
    }
   ],
   "source": [
    "pd.isnull(train_df.Pressure).sum()\n"
   ]
  },
  {
   "cell_type": "code",
   "execution_count": 13,
   "metadata": {},
   "outputs": [
    {
     "data": {
      "text/plain": [
       "0"
      ]
     },
     "execution_count": 13,
     "metadata": {},
     "output_type": "execute_result"
    }
   ],
   "source": [
    "pd.isnull(train_df.PM2point5).sum()\n"
   ]
  },
  {
   "cell_type": "code",
   "execution_count": 14,
   "metadata": {},
   "outputs": [
    {
     "data": {
      "text/plain": [
       "0"
      ]
     },
     "execution_count": 14,
     "metadata": {},
     "output_type": "execute_result"
    }
   ],
   "source": [
    "pd.isnull(train_df.PM10).sum()"
   ]
  },
  {
   "cell_type": "code",
   "execution_count": 15,
   "metadata": {},
   "outputs": [
    {
     "data": {
      "text/plain": [
       "78.15250690226394"
      ]
     },
     "execution_count": 15,
     "metadata": {},
     "output_type": "execute_result"
    }
   ],
   "source": [
    "train_df.Temperature.astype(np.int32).mean()"
   ]
  },
  {
   "cell_type": "code",
   "execution_count": 16,
   "metadata": {},
   "outputs": [
    {
     "data": {
      "text/plain": [
       "28.644588625069023"
      ]
     },
     "execution_count": 16,
     "metadata": {},
     "output_type": "execute_result"
    }
   ],
   "source": [
    "train_df.Humidity.astype(np.int32).mean()"
   ]
  },
  {
   "cell_type": "code",
   "execution_count": 17,
   "metadata": {},
   "outputs": [
    {
     "data": {
      "text/plain": [
       "971.9929210381005"
      ]
     },
     "execution_count": 17,
     "metadata": {},
     "output_type": "execute_result"
    }
   ],
   "source": [
    "train_df.Pressure.astype(np.int32).mean()"
   ]
  },
  {
   "cell_type": "code",
   "execution_count": 18,
   "metadata": {},
   "outputs": [
    {
     "data": {
      "text/plain": [
       "1.5222308117062398"
      ]
     },
     "execution_count": 18,
     "metadata": {},
     "output_type": "execute_result"
    }
   ],
   "source": [
    "train_df.PM10.astype(np.int32).mean()"
   ]
  },
  {
   "cell_type": "code",
   "execution_count": 19,
   "metadata": {},
   "outputs": [
    {
     "data": {
      "text/plain": [
       "1.0142794036443954"
      ]
     },
     "execution_count": 19,
     "metadata": {},
     "output_type": "execute_result"
    }
   ],
   "source": [
    "train_df.PM2point5.astype(np.int32).mean()"
   ]
  },
  {
   "cell_type": "code",
   "execution_count": 20,
   "metadata": {},
   "outputs": [],
   "source": [
    "train_df['Temperature'].replace(0,78.15250690226394,inplace=True)\n",
    "train_df['Humidity'].replace(0,28.644588625069023,inplace=True)\n",
    "train_df['Pressure'].replace(0,971.9929210381005,inplace=True)\n",
    "train_df['PM10'].replace(0,1.5222308117062398,inplace=True)\n",
    "train_df['PM2point5'].replace(0,1.0142794036443954,inplace=True)\n"
   ]
  },
  {
   "cell_type": "code",
   "execution_count": 21,
   "metadata": {},
   "outputs": [],
   "source": [
    "#spliting into train and test data set\n",
    "from sklearn.model_selection import train_test_split\n",
    "\n",
    "def train_validate_test_split(df, train_percent=.7, validate_percent=.2, seed=None):\n",
    "    np.random.seed(seed)\n",
    "    perm = np.random.permutation(df.index)\n",
    "    m = len(df.index)\n",
    "    train_end = int(train_percent * m)\n",
    "    validate_end = int(validate_percent * m) + train_end\n",
    "    train = df.iloc[perm[:train_end]]\n",
    "    validate = df.iloc[perm[train_end:validate_end]]\n",
    "    test = df.iloc[perm[validate_end:]]\n",
    "    return train, validate, test"
   ]
  },
  {
   "cell_type": "code",
   "execution_count": 22,
   "metadata": {},
   "outputs": [],
   "source": [
    "train, validate, test = train_validate_test_split(train_df)\n"
   ]
  },
  {
   "cell_type": "code",
   "execution_count": 23,
   "metadata": {},
   "outputs": [
    {
     "data": {
      "text/html": [
       "<div>\n",
       "<style scoped>\n",
       "    .dataframe tbody tr th:only-of-type {\n",
       "        vertical-align: middle;\n",
       "    }\n",
       "\n",
       "    .dataframe tbody tr th {\n",
       "        vertical-align: top;\n",
       "    }\n",
       "\n",
       "    .dataframe thead th {\n",
       "        text-align: right;\n",
       "    }\n",
       "</style>\n",
       "<table border=\"1\" class=\"dataframe\">\n",
       "  <thead>\n",
       "    <tr style=\"text-align: right;\">\n",
       "      <th></th>\n",
       "      <th>Temperature</th>\n",
       "      <th>Humidity</th>\n",
       "      <th>Pressure</th>\n",
       "      <th>PM10</th>\n",
       "      <th>PM2point5</th>\n",
       "    </tr>\n",
       "  </thead>\n",
       "  <tbody>\n",
       "    <tr>\n",
       "      <th>162939</th>\n",
       "      <td>78.764178</td>\n",
       "      <td>34.300524</td>\n",
       "      <td>974.823230</td>\n",
       "      <td>1.522231</td>\n",
       "      <td>1.3</td>\n",
       "    </tr>\n",
       "    <tr>\n",
       "      <th>11003</th>\n",
       "      <td>77.275455</td>\n",
       "      <td>26.256662</td>\n",
       "      <td>972.118911</td>\n",
       "      <td>1.522231</td>\n",
       "      <td>0.5</td>\n",
       "    </tr>\n",
       "    <tr>\n",
       "      <th>39578</th>\n",
       "      <td>79.102836</td>\n",
       "      <td>24.496343</td>\n",
       "      <td>970.321065</td>\n",
       "      <td>1.522231</td>\n",
       "      <td>1.3</td>\n",
       "    </tr>\n",
       "    <tr>\n",
       "      <th>40178</th>\n",
       "      <td>79.373308</td>\n",
       "      <td>24.274046</td>\n",
       "      <td>970.189696</td>\n",
       "      <td>1.522231</td>\n",
       "      <td>0.3</td>\n",
       "    </tr>\n",
       "    <tr>\n",
       "      <th>153555</th>\n",
       "      <td>77.199315</td>\n",
       "      <td>37.103039</td>\n",
       "      <td>974.357912</td>\n",
       "      <td>0.800000</td>\n",
       "      <td>0.6</td>\n",
       "    </tr>\n",
       "  </tbody>\n",
       "</table>\n",
       "</div>"
      ],
      "text/plain": [
       "        Temperature   Humidity    Pressure      PM10  PM2point5\n",
       "162939    78.764178  34.300524  974.823230  1.522231        1.3\n",
       "11003     77.275455  26.256662  972.118911  1.522231        0.5\n",
       "39578     79.102836  24.496343  970.321065  1.522231        1.3\n",
       "40178     79.373308  24.274046  970.189696  1.522231        0.3\n",
       "153555    77.199315  37.103039  974.357912  0.800000        0.6"
      ]
     },
     "execution_count": 23,
     "metadata": {},
     "output_type": "execute_result"
    }
   ],
   "source": [
    "train.head()"
   ]
  },
  {
   "cell_type": "code",
   "execution_count": 24,
   "metadata": {},
   "outputs": [
    {
     "data": {
      "text/html": [
       "<div>\n",
       "<style scoped>\n",
       "    .dataframe tbody tr th:only-of-type {\n",
       "        vertical-align: middle;\n",
       "    }\n",
       "\n",
       "    .dataframe tbody tr th {\n",
       "        vertical-align: top;\n",
       "    }\n",
       "\n",
       "    .dataframe thead th {\n",
       "        text-align: right;\n",
       "    }\n",
       "</style>\n",
       "<table border=\"1\" class=\"dataframe\">\n",
       "  <thead>\n",
       "    <tr style=\"text-align: right;\">\n",
       "      <th></th>\n",
       "      <th>Temperature</th>\n",
       "      <th>Humidity</th>\n",
       "      <th>Pressure</th>\n",
       "      <th>PM10</th>\n",
       "      <th>PM2point5</th>\n",
       "    </tr>\n",
       "  </thead>\n",
       "  <tbody>\n",
       "    <tr>\n",
       "      <th>135973</th>\n",
       "      <td>73.985542</td>\n",
       "      <td>35.139033</td>\n",
       "      <td>974.917574</td>\n",
       "      <td>9.300000</td>\n",
       "      <td>1.014279</td>\n",
       "    </tr>\n",
       "    <tr>\n",
       "      <th>75037</th>\n",
       "      <td>80.883643</td>\n",
       "      <td>20.536746</td>\n",
       "      <td>970.229887</td>\n",
       "      <td>1.522231</td>\n",
       "      <td>1.300000</td>\n",
       "    </tr>\n",
       "    <tr>\n",
       "      <th>72718</th>\n",
       "      <td>77.767528</td>\n",
       "      <td>19.791948</td>\n",
       "      <td>970.283747</td>\n",
       "      <td>0.300000</td>\n",
       "      <td>1.014279</td>\n",
       "    </tr>\n",
       "    <tr>\n",
       "      <th>138634</th>\n",
       "      <td>76.591329</td>\n",
       "      <td>33.841828</td>\n",
       "      <td>975.275883</td>\n",
       "      <td>0.600000</td>\n",
       "      <td>1.200000</td>\n",
       "    </tr>\n",
       "    <tr>\n",
       "      <th>52480</th>\n",
       "      <td>77.739117</td>\n",
       "      <td>23.722070</td>\n",
       "      <td>971.136691</td>\n",
       "      <td>1.522231</td>\n",
       "      <td>1.014279</td>\n",
       "    </tr>\n",
       "  </tbody>\n",
       "</table>\n",
       "</div>"
      ],
      "text/plain": [
       "        Temperature   Humidity    Pressure      PM10  PM2point5\n",
       "135973    73.985542  35.139033  974.917574  9.300000   1.014279\n",
       "75037     80.883643  20.536746  970.229887  1.522231   1.300000\n",
       "72718     77.767528  19.791948  970.283747  0.300000   1.014279\n",
       "138634    76.591329  33.841828  975.275883  0.600000   1.200000\n",
       "52480     77.739117  23.722070  971.136691  1.522231   1.014279"
      ]
     },
     "execution_count": 24,
     "metadata": {},
     "output_type": "execute_result"
    }
   ],
   "source": [
    "test.head()"
   ]
  },
  {
   "cell_type": "code",
   "execution_count": 25,
   "metadata": {},
   "outputs": [
    {
     "data": {
      "text/html": [
       "<div>\n",
       "<style scoped>\n",
       "    .dataframe tbody tr th:only-of-type {\n",
       "        vertical-align: middle;\n",
       "    }\n",
       "\n",
       "    .dataframe tbody tr th {\n",
       "        vertical-align: top;\n",
       "    }\n",
       "\n",
       "    .dataframe thead th {\n",
       "        text-align: right;\n",
       "    }\n",
       "</style>\n",
       "<table border=\"1\" class=\"dataframe\">\n",
       "  <thead>\n",
       "    <tr style=\"text-align: right;\">\n",
       "      <th></th>\n",
       "      <th>Temperature</th>\n",
       "      <th>Humidity</th>\n",
       "      <th>Pressure</th>\n",
       "      <th>PM10</th>\n",
       "      <th>PM2point5</th>\n",
       "    </tr>\n",
       "  </thead>\n",
       "  <tbody>\n",
       "    <tr>\n",
       "      <th>179401</th>\n",
       "      <td>81.301857</td>\n",
       "      <td>26.701668</td>\n",
       "      <td>975.037227</td>\n",
       "      <td>1.522231</td>\n",
       "      <td>1.100000</td>\n",
       "    </tr>\n",
       "    <tr>\n",
       "      <th>140996</th>\n",
       "      <td>77.562971</td>\n",
       "      <td>33.214379</td>\n",
       "      <td>974.941911</td>\n",
       "      <td>0.900000</td>\n",
       "      <td>1.014279</td>\n",
       "    </tr>\n",
       "    <tr>\n",
       "      <th>55410</th>\n",
       "      <td>78.147095</td>\n",
       "      <td>24.319044</td>\n",
       "      <td>971.398560</td>\n",
       "      <td>1.100000</td>\n",
       "      <td>0.400000</td>\n",
       "    </tr>\n",
       "    <tr>\n",
       "      <th>17106</th>\n",
       "      <td>77.418645</td>\n",
       "      <td>27.836986</td>\n",
       "      <td>971.770448</td>\n",
       "      <td>1.522231</td>\n",
       "      <td>0.800000</td>\n",
       "    </tr>\n",
       "    <tr>\n",
       "      <th>117765</th>\n",
       "      <td>78.864184</td>\n",
       "      <td>39.363782</td>\n",
       "      <td>973.580021</td>\n",
       "      <td>2.200000</td>\n",
       "      <td>0.700000</td>\n",
       "    </tr>\n",
       "  </tbody>\n",
       "</table>\n",
       "</div>"
      ],
      "text/plain": [
       "        Temperature   Humidity    Pressure      PM10  PM2point5\n",
       "179401    81.301857  26.701668  975.037227  1.522231   1.100000\n",
       "140996    77.562971  33.214379  974.941911  0.900000   1.014279\n",
       "55410     78.147095  24.319044  971.398560  1.100000   0.400000\n",
       "17106     77.418645  27.836986  971.770448  1.522231   0.800000\n",
       "117765    78.864184  39.363782  973.580021  2.200000   0.700000"
      ]
     },
     "execution_count": 25,
     "metadata": {},
     "output_type": "execute_result"
    }
   ],
   "source": [
    "validate.head()"
   ]
  },
  {
   "cell_type": "code",
   "execution_count": 26,
   "metadata": {},
   "outputs": [
    {
     "data": {
      "text/plain": [
       "((126769, 5), (18111, 5), (36220, 5))"
      ]
     },
     "execution_count": 26,
     "metadata": {},
     "output_type": "execute_result"
    }
   ],
   "source": [
    "train.shape, test.shape, validate.shape\n"
   ]
  },
  {
   "cell_type": "code",
   "execution_count": 27,
   "metadata": {},
   "outputs": [
    {
     "data": {
      "text/plain": [
       "((126769, 4), (126769, 1))"
      ]
     },
     "execution_count": 27,
     "metadata": {},
     "output_type": "execute_result"
    }
   ],
   "source": [
    "#creating X,Y variables from Train, Test and Validation splitted dataset\n",
    "X_train = train.drop(\"Temperature\", axis=1)\n",
    "Y_train = pd.DataFrame()\n",
    "Y_train['Temperature'] = train[\"Temperature\"].copy() \n",
    "X_train.shape,Y_train.shape"
   ]
  },
  {
   "cell_type": "code",
   "execution_count": 28,
   "metadata": {},
   "outputs": [
    {
     "name": "stdout",
     "output_type": "stream",
     "text": [
      "printing column value of X\n",
      "['Humidity' 'Pressure' 'PM10' 'PM2point5']\n",
      "printing column value of Y\n",
      "['Temperature']\n"
     ]
    }
   ],
   "source": [
    "print(\"printing column value of X\")\n",
    "print(X_train.columns.values)\n",
    "print(\"printing column value of Y\")\n",
    "print(Y_train.columns.values)"
   ]
  },
  {
   "cell_type": "code",
   "execution_count": 29,
   "metadata": {},
   "outputs": [
    {
     "data": {
      "text/plain": [
       "((18111, 4), (18111, 1))"
      ]
     },
     "execution_count": 29,
     "metadata": {},
     "output_type": "execute_result"
    }
   ],
   "source": [
    "X_test  = test.drop(\"Temperature\", axis=1).copy()\n",
    "Y_test = pd.DataFrame()\n",
    "Y_test['Temperature'] = test[\"Temperature\"].copy()\n",
    "X_test.shape,Y_test.shape"
   ]
  },
  {
   "cell_type": "code",
   "execution_count": 30,
   "metadata": {},
   "outputs": [
    {
     "name": "stdout",
     "output_type": "stream",
     "text": [
      "printing column value of X\n",
      "['Humidity' 'Pressure' 'PM10' 'PM2point5']\n",
      "printing column value of Y\n",
      "['Temperature']\n"
     ]
    }
   ],
   "source": [
    "print(\"printing column value of X\")\n",
    "print(X_test.columns.values)\n",
    "print(\"printing column value of Y\")\n",
    "print(Y_test.columns.values)"
   ]
  },
  {
   "cell_type": "code",
   "execution_count": 31,
   "metadata": {},
   "outputs": [
    {
     "data": {
      "text/plain": [
       "((36220, 4), (36220, 1))"
      ]
     },
     "execution_count": 31,
     "metadata": {},
     "output_type": "execute_result"
    }
   ],
   "source": [
    "X_validate  = validate.drop(\"Temperature\", axis=1).copy()\n",
    "Y_validate = pd.DataFrame()\n",
    "\n",
    "Y_validate['Temperature'] = validate[\"Temperature\"]\n",
    "X_validate.shape,Y_validate.shape"
   ]
  },
  {
   "cell_type": "code",
   "execution_count": 32,
   "metadata": {},
   "outputs": [
    {
     "name": "stdout",
     "output_type": "stream",
     "text": [
      "printing column value of X\n",
      "['Humidity' 'Pressure' 'PM10' 'PM2point5']\n",
      "printing column value of Y\n",
      "['Temperature']\n"
     ]
    }
   ],
   "source": [
    "print(\"printing column value of X\")\n",
    "print(X_validate.columns.values)\n",
    "print(\"printing column value of Y\")\n",
    "print(Y_validate.columns.values)"
   ]
  },
  {
   "cell_type": "code",
   "execution_count": 33,
   "metadata": {},
   "outputs": [],
   "source": [
    "#Linear Regression\n",
    "from sklearn import linear_model\n",
    "lm = linear_model.LinearRegression()\n",
    "model = lm.fit(X_train, Y_train)\n",
    "predictions = lm.predict(X_test)"
   ]
  },
  {
   "cell_type": "code",
   "execution_count": 34,
   "metadata": {},
   "outputs": [
    {
     "data": {
      "text/plain": [
       "array([[78.47544902],\n",
       "       [78.89256313],\n",
       "       [78.90530287],\n",
       "       [78.49260875],\n",
       "       [78.80843301]])"
      ]
     },
     "execution_count": 34,
     "metadata": {},
     "output_type": "execute_result"
    }
   ],
   "source": [
    "predictions[0:5]\n"
   ]
  },
  {
   "cell_type": "code",
   "execution_count": 35,
   "metadata": {},
   "outputs": [
    {
     "data": {
      "text/plain": [
       "Text(0, 0.5, 'Predictions')"
      ]
     },
     "execution_count": 35,
     "metadata": {},
     "output_type": "execute_result"
    },
    {
     "data": {
      "image/png": "[encoded data removed]",
      "text/plain": [
       "<Figure size 432x288 with 1 Axes>"
      ]
     },
     "metadata": {},
     "output_type": "display_data"
    }
   ],
   "source": [
    "plt.scatter(Y_test, predictions)\n",
    "plt.xlabel(\"True Values\")\n",
    "plt.ylabel(\"Predictions\")"
   ]
  },
  {
   "cell_type": "code",
   "execution_count": 36,
   "metadata": {},
   "outputs": [],
   "source": [
    "def mean_absolute_percentage_error(y_true, y_pred): \n",
    "    y_true, y_pred = np.array(y_true), np.array(y_pred)\n",
    "    return np.mean(np.abs((y_true - y_pred) / y_true)) * 100"
   ]
  },
  {
   "cell_type": "code",
   "execution_count": 37,
   "metadata": {},
   "outputs": [
    {
     "name": "stdout",
     "output_type": "stream",
     "text": [
      "Liner Regression MAE: 1.3325\n",
      "Liner Regression RMSE: 1.6727\n",
      "Liner Regression MAPE: 1.6964\n"
     ]
    }
   ],
   "source": [
    "#Performance Calculation\n",
    "from sklearn.metrics import mean_absolute_error\n",
    "\n",
    "lin_mae = mean_absolute_error(Y_test, predictions)\n",
    "print('Liner Regression MAE: %.4f' % lin_mae) \n",
    "\n",
    "from sklearn.metrics import mean_squared_error\n",
    "from math import sqrt\n",
    "\n",
    "rmse = sqrt(mean_squared_error(Y_test, predictions))\n",
    "print('Liner Regression RMSE: %.4f' % rmse) \n",
    "\n",
    "print('Liner Regression MAPE: %.4f' % mean_absolute_percentage_error(Y_test, predictions))\n",
    "\n",
    "\n"
   ]
  },
  {
   "cell_type": "code",
   "execution_count": 46,
   "metadata": {},
   "outputs": [
    {
     "name": "stderr",
     "output_type": "stream",
     "text": [
      "C:\\Users\\Imran Jamal\\Anaconda3\\lib\\site-packages\\sklearn\\svm\\base.py:196: FutureWarning: The default value of gamma will change from 'auto' to 'scale' in version 0.22 to account better for unscaled features. Set gamma explicitly to 'auto' or 'scale' to avoid this warning.\n",
      "  \"avoid this warning.\", FutureWarning)\n"
     ]
    }
   ],
   "source": [
    "from sklearn  import metrics, svm\n",
    "clf = svm.SVR()\n",
    " \n",
    "clf.fit(X_train, Y_train.values.reshape(-1,))\n",
    "predictions_svm = clf.predict(X_test)"
   ]
  },
  {
   "cell_type": "code",
   "execution_count": 47,
   "metadata": {},
   "outputs": [
    {
     "name": "stdout",
     "output_type": "stream",
     "text": [
      "SVR\n"
     ]
    },
    {
     "data": {
      "text/plain": [
       "array([78.57940297, 79.99571458, 78.26078067, 77.09808388, 78.24137712])"
      ]
     },
     "execution_count": 47,
     "metadata": {},
     "output_type": "execute_result"
    }
   ],
   "source": [
    "print(\"SVR\")\n",
    "predictions_svm[0:5]"
   ]
  },
  {
   "cell_type": "code",
   "execution_count": 48,
   "metadata": {},
   "outputs": [
    {
     "data": {
      "text/plain": [
       "Text(0, 0.5, 'SVR Predictions')"
      ]
     },
     "execution_count": 48,
     "metadata": {},
     "output_type": "execute_result"
    },
    {
     "data": {
      "image/png": "[encoded data removed]",
      "text/plain": [
       "<Figure size 432x288 with 1 Axes>"
      ]
     },
     "metadata": {},
     "output_type": "display_data"
    }
   ],
   "source": [
    "plt.scatter(Y_test, predictions_svm)\n",
    "plt.xlabel(\"True Values\")\n",
    "plt.ylabel(\"SVR Predictions\")"
   ]
  },
  {
   "cell_type": "code",
   "execution_count": 49,
   "metadata": {},
   "outputs": [
    {
     "name": "stdout",
     "output_type": "stream",
     "text": [
      "SVR MAE: 0.6042\n",
      "SVR RMSE: 0.9509\n",
      "SVR MAPE: 2.1365\n"
     ]
    }
   ],
   "source": [
    "#Performance Calculation\n",
    "from sklearn.metrics import mean_absolute_error\n",
    "\n",
    "lin_mae = mean_absolute_error(Y_test, predictions_svm)\n",
    "print('SVR MAE: %.4f' % lin_mae) \n",
    "\n",
    "from sklearn.metrics import mean_squared_error\n",
    "from math import sqrt\n",
    "\n",
    "rmse = sqrt(mean_squared_error(Y_test, predictions_svm))\n",
    "print('SVR RMSE: %.4f' % rmse) \n",
    "\n",
    "print('SVR MAPE: %.4f' % mean_absolute_percentage_error(Y_test, predictions_svm))"
   ]
  },
  {
   "cell_type": "code",
   "execution_count": 51,
   "metadata": {},
   "outputs": [
    {
     "name": "stderr",
     "output_type": "stream",
     "text": [
      "C:\\Users\\Imran Jamal\\Anaconda3\\lib\\site-packages\\sklearn\\linear_model\\stochastic_gradient.py:166: FutureWarning: max_iter and tol parameters have been added in SGDRegressor in 0.19. If both are left unset, they default to max_iter=5 and tol=None. If tol is not None, max_iter defaults to max_iter=1000. From 0.21, default max_iter will be 1000, and default tol will be 1e-3.\n",
      "  FutureWarning)\n"
     ]
    }
   ],
   "source": [
    "#SGD Regressor \n",
    "from sklearn import linear_model\n",
    "lmsgd = linear_model.SGDRegressor()\n",
    "modelsgd = lmsgd.fit(X_train, Y_train.values.reshape(-1,))\n",
    "predictions_sgd = lmsgd.predict(X_test)"
   ]
  },
  {
   "cell_type": "code",
   "execution_count": 52,
   "metadata": {},
   "outputs": [
    {
     "data": {
      "text/plain": [
       "array([-2.71903418e+14, -2.24481773e+14, -2.22349566e+14, -2.71245998e+14,\n",
       "       -2.35442502e+14])"
      ]
     },
     "execution_count": 52,
     "metadata": {},
     "output_type": "execute_result"
    }
   ],
   "source": [
    "predictions_sgd[0:5]"
   ]
  },
  {
   "cell_type": "code",
   "execution_count": 53,
   "metadata": {},
   "outputs": [
    {
     "data": {
      "text/plain": [
       "Text(0, 0.5, 'SGDR Predictions')"
      ]
     },
     "execution_count": 53,
     "metadata": {},
     "output_type": "execute_result"
    },
    {
     "data": {
      "image/png": "[encoded data removed]",
      "text/plain": [
       "<Figure size 432x288 with 1 Axes>"
      ]
     },
     "metadata": {},
     "output_type": "display_data"
    }
   ],
   "source": [
    "plt.scatter(Y_test, predictions_sgd)\n",
    "plt.xlabel(\"True Values\")\n",
    "plt.ylabel(\"SGDR Predictions\")\n"
   ]
  },
  {
   "cell_type": "code",
   "execution_count": 54,
   "metadata": {},
   "outputs": [
    {
     "name": "stdout",
     "output_type": "stream",
     "text": [
      "SGDR MAE: 254283506385767.3750\n",
      "SGDR RMSE: 255217472832142.0938\n",
      "SGDR MAPE: 323422153038535.5000\n"
     ]
    }
   ],
   "source": [
    "#Performance Calculation\n",
    "from sklearn.metrics import mean_absolute_error\n",
    "\n",
    "lin_mae = mean_absolute_error(Y_test, predictions_sgd)\n",
    "print('SGDR MAE: %.4f' % lin_mae) \n",
    "\n",
    "from sklearn.metrics import mean_squared_error\n",
    "from math import sqrt\n",
    "\n",
    "rmse = sqrt(mean_squared_error(Y_test, predictions_sgd))\n",
    "print('SGDR RMSE: %.4f' % rmse) \n",
    "\n",
    "print('SGDR MAPE: %.4f' % mean_absolute_percentage_error(Y_test, predictions_sgd))"
   ]
  },
  {
   "cell_type": "code",
   "execution_count": 55,
   "metadata": {},
   "outputs": [],
   "source": [
    "# # LassoLars\n",
    "lmLassoLars= linear_model.LassoLars()\n",
    "modeLassoLars= lmLassoLars.fit(X_train, Y_train)\n",
    "predictions_LassoLars = lmLassoLars.predict(X_test)"
   ]
  },
  {
   "cell_type": "code",
   "execution_count": 56,
   "metadata": {},
   "outputs": [
    {
     "data": {
      "text/plain": [
       "array([78.66809711, 78.66809711, 78.66809711, 78.66809711, 78.66809711])"
      ]
     },
     "execution_count": 56,
     "metadata": {},
     "output_type": "execute_result"
    }
   ],
   "source": [
    "predictions_LassoLars[0:5]\n"
   ]
  },
  {
   "cell_type": "code",
   "execution_count": 57,
   "metadata": {},
   "outputs": [
    {
     "data": {
      "text/plain": [
       "Text(0, 0.5, 'LassoLars Predictions')"
      ]
     },
     "execution_count": 57,
     "metadata": {},
     "output_type": "execute_result"
    },
    {
     "data": {
      "image/png": "[encoded data removed]",
      "text/plain": [
       "<Figure size 432x288 with 1 Axes>"
      ]
     },
     "metadata": {},
     "output_type": "display_data"
    }
   ],
   "source": [
    "plt.scatter(Y_test, predictions_LassoLars)\n",
    "plt.xlabel(\"True Values\")\n",
    "plt.ylabel(\"LassoLars Predictions\")\n"
   ]
  },
  {
   "cell_type": "code",
   "execution_count": 58,
   "metadata": {},
   "outputs": [
    {
     "name": "stdout",
     "output_type": "stream",
     "text": [
      "LassoLars Predictions MAE: 1.3246\n",
      "LassoLars Predictions RMSE: 1.6803\n",
      "LassoLars Predictions MAPE: 1.6867\n"
     ]
    }
   ],
   "source": [
    "#Performance Calculation\n",
    "from sklearn.metrics import mean_absolute_error\n",
    "\n",
    "lin_mae = mean_absolute_error(Y_test, predictions_LassoLars)\n",
    "print('LassoLars Predictions MAE: %.4f' % lin_mae) \n",
    "\n",
    "from sklearn.metrics import mean_squared_error\n",
    "from math import sqrt\n",
    "\n",
    "rmse = sqrt(mean_squared_error(Y_test, predictions_LassoLars))\n",
    "print('LassoLars Predictions RMSE: %.4f' % rmse) \n",
    "\n",
    "print('LassoLars Predictions MAPE: %.4f' % mean_absolute_percentage_error(Y_test, predictions_LassoLars))"
   ]
  },
  {
   "cell_type": "code",
   "execution_count": 60,
   "metadata": {},
   "outputs": [],
   "source": [
    "from sklearn.ensemble import RandomForestRegressor\n",
    "rf = RandomForestRegressor(n_estimators=500, oob_score=True, random_state=0)\n",
    "rf.fit(X_train, Y_train.values.reshape(-1,)) \n",
    "predicted_rfr = rf.predict(X_test)"
   ]
  },
  {
   "cell_type": "code",
   "execution_count": 61,
   "metadata": {},
   "outputs": [
    {
     "data": {
      "text/plain": [
       "array([73.82668291, 80.32324597, 78.96153735, 76.59064762, 77.75110186])"
      ]
     },
     "execution_count": 61,
     "metadata": {},
     "output_type": "execute_result"
    }
   ],
   "source": [
    "predicted_rfr[0:5]\n"
   ]
  },
  {
   "cell_type": "code",
   "execution_count": 62,
   "metadata": {},
   "outputs": [
    {
     "data": {
      "text/plain": [
       "Text(0, 0.5, 'Random Forest Predictions')"
      ]
     },
     "execution_count": 62,
     "metadata": {},
     "output_type": "execute_result"
    },
    {
     "data": {
      "image/png": "[encoded data removed]",
      "text/plain": [
       "<Figure size 432x288 with 1 Axes>"
      ]
     },
     "metadata": {},
     "output_type": "display_data"
    }
   ],
   "source": [
    "plt.scatter(Y_test, predicted_rfr )\n",
    "plt.xlabel(\"True Values\")\n",
    "plt.ylabel(\"Random Forest Predictions\")"
   ]
  },
  {
   "cell_type": "code",
   "execution_count": 63,
   "metadata": {},
   "outputs": [
    {
     "name": "stdout",
     "output_type": "stream",
     "text": [
      "Random Forest Predictions MAE: 0.2381\n",
      "Random Forest Predictions RMSE: 0.4916\n",
      "Random Forest Predictions MAPE: 2.3176\n"
     ]
    }
   ],
   "source": [
    "#Performance Calculation\n",
    "from sklearn.metrics import mean_absolute_error\n",
    "\n",
    "lin_mae = mean_absolute_error(Y_test, predicted_rfr)\n",
    "print('Random Forest Predictions MAE: %.4f' % lin_mae) \n",
    "\n",
    "from sklearn.metrics import mean_squared_error\n",
    "from math import sqrt\n",
    "\n",
    "rmse = sqrt(mean_squared_error(Y_test, predicted_rfr))\n",
    "print('Random Forest Predictions RMSE: %.4f' % rmse) \n",
    "\n",
    "print('Random Forest Predictions MAPE: %.4f' % mean_absolute_percentage_error(Y_test, predicted_rfr))"
   ]
  },
  {
   "cell_type": "code",
   "execution_count": 65,
   "metadata": {},
   "outputs": [
    {
     "name": "stderr",
     "output_type": "stream",
     "text": [
      "C:\\Users\\Imran Jamal\\Anaconda3\\lib\\site-packages\\sklearn\\linear_model\\stochastic_gradient.py:166: FutureWarning: max_iter and tol parameters have been added in PassiveAggressiveRegressor in 0.19. If both are left unset, they default to max_iter=5 and tol=None. If tol is not None, max_iter defaults to max_iter=1000. From 0.21, default max_iter will be 1000, and default tol will be 1e-3.\n",
      "  FutureWarning)\n"
     ]
    }
   ],
   "source": [
    "lmPassiveAggressiveRegressor= linear_model.PassiveAggressiveRegressor()\n",
    "modePassiveAggressiveRegressor= lmPassiveAggressiveRegressor.fit(X_train, Y_train.values.reshape(-1,))\n",
    "predictions_PassiveAggressiveRegressor = lmPassiveAggressiveRegressor.predict(X_test)\n"
   ]
  },
  {
   "cell_type": "code",
   "execution_count": 66,
   "metadata": {},
   "outputs": [
    {
     "data": {
      "text/plain": [
       "array([76.8078158 , 77.04824788, 77.08628217, 76.89857171, 76.98924763])"
      ]
     },
     "execution_count": 66,
     "metadata": {},
     "output_type": "execute_result"
    }
   ],
   "source": [
    "predictions_PassiveAggressiveRegressor[0:5]\n"
   ]
  },
  {
   "cell_type": "code",
   "execution_count": 67,
   "metadata": {},
   "outputs": [
    {
     "data": {
      "text/plain": [
       "Text(0, 0.5, 'Passive Aggressive Predictions')"
      ]
     },
     "execution_count": 67,
     "metadata": {},
     "output_type": "execute_result"
    },
    {
     "data": {
      "image/png": "[encoded data removed]",
      "text/plain": [
       "<Figure size 432x288 with 1 Axes>"
      ]
     },
     "metadata": {},
     "output_type": "display_data"
    }
   ],
   "source": [
    "plt.scatter(Y_test, predictions_PassiveAggressiveRegressor)\n",
    "plt.xlabel(\"True Values\")\n",
    "plt.ylabel(\"Passive Aggressive Predictions\")\n"
   ]
  },
  {
   "cell_type": "code",
   "execution_count": 68,
   "metadata": {},
   "outputs": [
    {
     "name": "stdout",
     "output_type": "stream",
     "text": [
      "Passive Aggressive Predictions MAE: 1.9837\n",
      "Passive Aggressive Predictions RMSE: 2.4610\n",
      "Passive Aggressive Predictions MAPE: 2.5138\n"
     ]
    }
   ],
   "source": [
    "#Performance Calculation\n",
    "from sklearn.metrics import mean_absolute_error\n",
    "\n",
    "lin_mae = mean_absolute_error(Y_test, predictions_PassiveAggressiveRegressor)\n",
    "print('Passive Aggressive Predictions MAE: %.4f' % lin_mae) \n",
    "\n",
    "from sklearn.metrics import mean_squared_error\n",
    "from math import sqrt\n",
    "\n",
    "rmse = sqrt(mean_squared_error(Y_test, predictions_PassiveAggressiveRegressor))\n",
    "print('Passive Aggressive Predictions RMSE: %.4f' % rmse) \n",
    "\n",
    "print('Passive Aggressive Predictions MAPE: %.4f' % mean_absolute_percentage_error(Y_test, predictions_PassiveAggressiveRegressor))"
   ]
  },
  {
   "cell_type": "code",
   "execution_count": 69,
   "metadata": {},
   "outputs": [
    {
     "name": "stderr",
     "output_type": "stream",
     "text": [
      "C:\\Users\\Imran Jamal\\Anaconda3\\lib\\site-packages\\sklearn\\utils\\validation.py:761: DataConversionWarning: A column-vector y was passed when a 1d array was expected. Please change the shape of y to (n_samples, ), for example using ravel().\n",
      "  y = column_or_1d(y, warn=True)\n"
     ]
    }
   ],
   "source": [
    "lmTheilSenRegressor= linear_model.TheilSenRegressor()\n",
    "modeTheilSenRegressor= lmTheilSenRegressor.fit(X_train, Y_train)\n",
    "predictions_TheilSenRegressor = lmTheilSenRegressor.predict(X_test)\n"
   ]
  },
  {
   "cell_type": "code",
   "execution_count": 70,
   "metadata": {},
   "outputs": [
    {
     "data": {
      "text/plain": [
       "array([79.73926326, 79.07142446, 78.73201821, 78.26540249, 78.89595739])"
      ]
     },
     "execution_count": 70,
     "metadata": {},
     "output_type": "execute_result"
    }
   ],
   "source": [
    "predictions_TheilSenRegressor[0:5]\n"
   ]
  },
  {
   "cell_type": "code",
   "execution_count": 71,
   "metadata": {},
   "outputs": [
    {
     "data": {
      "text/plain": [
       "Text(0, 0.5, 'TheilSen Regressor Predictions')"
      ]
     },
     "execution_count": 71,
     "metadata": {},
     "output_type": "execute_result"
    },
    {
     "data": {
      "image/png": "[encoded data removed]",
      "text/plain": [
       "<Figure size 432x288 with 1 Axes>"
      ]
     },
     "metadata": {},
     "output_type": "display_data"
    }
   ],
   "source": [
    "plt.scatter(Y_test, predictions_TheilSenRegressor)\n",
    "plt.xlabel(\"True Values\")\n",
    "plt.ylabel(\"TheilSen Regressor Predictions\")\n"
   ]
  },
  {
   "cell_type": "code",
   "execution_count": 72,
   "metadata": {},
   "outputs": [
    {
     "name": "stdout",
     "output_type": "stream",
     "text": [
      "TheilSen Regressor Predictions MAE: 1.6891\n",
      "TheilSen Regressor Predictions RMSE: 7.0262\n",
      "TheilSen Regressor Predictions MAPE: 2.5138\n"
     ]
    }
   ],
   "source": [
    "#Performance Calculation\n",
    "from sklearn.metrics import mean_absolute_error\n",
    "\n",
    "lin_mae = mean_absolute_error(Y_test, predictions_TheilSenRegressor)\n",
    "print('TheilSen Regressor Predictions MAE: %.4f' % lin_mae) \n",
    "\n",
    "from sklearn.metrics import mean_squared_error\n",
    "from math import sqrt\n",
    "\n",
    "rmse = sqrt(mean_squared_error(Y_test, predictions_TheilSenRegressor))\n",
    "print('TheilSen Regressor Predictions RMSE: %.4f' % rmse) \n",
    "\n",
    "print('TheilSen Regressor Predictions MAPE: %.4f' % mean_absolute_percentage_error(Y_test, predictions_PassiveAggressiveRegressor))"
   ]
  },
  {
   "cell_type": "code",
   "execution_count": null,
   "metadata": {},
   "outputs": [],
   "source": []
  }
 ],
 "metadata": {
  "kernelspec": {
   "display_name": "Python 3",
   "language": "python",
   "name": "python3"
  },
  "language_info": {
   "codemirror_mode": {
    "name": "ipython",
    "version": 3
   },
   "file_extension": ".py",
   "mimetype": "text/x-python",
   "name": "python",
   "nbconvert_exporter": "python",
   "pygments_lexer": "ipython3",
   "version": "3.7.1"
  }
 },
 "nbformat": 4,
 "nbformat_minor": 1
}
